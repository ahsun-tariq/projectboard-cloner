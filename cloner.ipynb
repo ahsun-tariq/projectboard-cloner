{
 "cells": [
  {
   "cell_type": "code",
   "execution_count": null,
   "id": "agricultural-softball",
   "metadata": {},
   "outputs": [],
   "source": [
    "import requests\n",
    "import os\n",
    "import json\n",
    "import time"
   ]
  },
  {
   "cell_type": "markdown",
   "id": "useful-republican",
   "metadata": {},
   "source": [
    "Create env.txt file in directory. First line should be your github ID, second line should be authentication token."
   ]
  },
  {
   "cell_type": "code",
   "execution_count": null,
   "id": "dramatic-preparation",
   "metadata": {},
   "outputs": [],
   "source": [
    "Path = os.getcwd() + \"\\env.txt\"\n",
    "def getCredentials(path=Path):\n",
    "    with open(path,\"r\") as file:\n",
    "        contents = file.read()\n",
    "        creds = contents.split(\"\\n\")\n",
    "        user = creds[0]\n",
    "        token = creds[1]\n",
    "    return user,token\n",
    "user,token = getCredentials()\n",
    "url_headers = {\n",
    "                \"Accept\" : \"application/vnd.github.v3+json\",\n",
    "            }"
   ]
  },
  {
   "cell_type": "markdown",
   "id": "useful-billion",
   "metadata": {},
   "source": [
    "filterMilestone(item) takes in a milestone object and returns an object with keys \"title\",\"state\",\"description\",\"due_on\". These are used to create a milestone object. We have to filter to compare if milestones in source repo are different than milestones in destination repo."
   ]
  },
  {
   "cell_type": "code",
   "execution_count": null,
   "id": "mineral-adolescent",
   "metadata": {},
   "outputs": [],
   "source": [
    "def filterMilestone(item):\n",
    "    your_keys = [\"title\",\"state\",\"description\",\"due_on\"]\n",
    "    milestone = { your_key: item[your_key] for your_key in your_keys }\n",
    "    return milestone"
   ]
  },
  {
   "cell_type": "code",
   "execution_count": null,
   "id": "classified-cycling",
   "metadata": {},
   "outputs": [],
   "source": [
    "def getMilestones(sourceRepo,org,Headers=url_headers,Auth=(user,token)):\n",
    "    getMilestonesUrl = \"https://api.github.com/repos/\"+org+\"/\"+sourceRepo+\"/milestones\";\n",
    "    time.sleep(1)\n",
    "    response = requests.get(getMilestonesUrl, headers=Headers,auth=Auth)\n",
    "    milestones = response.json()\n",
    "    milestones = list(map(lambda item: filterMilestone(item),milestones))\n",
    "    return milestones"
   ]
  },
  {
   "cell_type": "markdown",
   "id": "social-expert",
   "metadata": {},
   "source": [
    "createMilestones(sourceRepo,repo,org,Headers = url_headers, Auth=(user,token)) clones milestones from source repo to repo. It checks what milestones already exist. Only new milestones are cloned."
   ]
  },
  {
   "cell_type": "code",
   "execution_count": null,
   "id": "convinced-specialist",
   "metadata": {},
   "outputs": [],
   "source": [
    "def createMilestones(milestones,repo,org,Headers = url_headers, Auth=(user,token)):\n",
    "    repo_milestone_url =\"https://api.github.com/repos/\"+org+\"/\"+repo+\"/milestones\"\n",
    "    time.sleep(1)\n",
    "    response = requests.get(repo_milestone_url, headers=Headers,auth=Auth)\n",
    "    existing_milestones = response.json()\n",
    "    existing_milestones = list(map(lambda item: filterMilestone(item),existing_milestones))\n",
    "    print(f'{len(existing_milestones)} existing milestones found.')\n",
    "    new_milestones = []\n",
    "    for milestone in milestones:\n",
    "        if not milestone in existing_milestones:\n",
    "            new_milestones.append(milestone)\n",
    "    count = 0\n",
    "    for milestone in new_milestones:\n",
    "        time.sleep(1)\n",
    "        response = requests.post(repo_milestone_url,data=json.dumps(milestone),headers=Headers,auth=Auth)\n",
    "        result = response.json()\n",
    "        count += 1\n",
    "    print(f'{count} new miletsones created.')"
   ]
  },
  {
   "cell_type": "markdown",
   "id": "forty-carol",
   "metadata": {},
   "source": [
    "filterIssue(item) takes in an issue object and returns an object with keys \"title\",\"number\",\"body\",\"labels\",\"milestone\". These are used to create a new issue object. We have to filter to compare if issues in source repo are different than issues in destination repo."
   ]
  },
  {
   "cell_type": "code",
   "execution_count": null,
   "id": "ahead-scientist",
   "metadata": {},
   "outputs": [],
   "source": [
    "def filterIssue(item):\n",
    "    your_keys = [\"id\",\"title\",\"number\",\"body\",\"labels\",\"milestone\"]\n",
    "    issue = { your_key: item[your_key] for your_key in your_keys }\n",
    "    if \"milestone\" in issue.keys() and issue[\"milestone\"] != None :\n",
    "        issue[\"milestone\"] = issue[\"milestone\"][\"number\"]\n",
    "    else:\n",
    "        issue[\"milestone\"]=None\n",
    "    return issue"
   ]
  },
  {
   "cell_type": "code",
   "execution_count": null,
   "id": "unique-seafood",
   "metadata": {},
   "outputs": [],
   "source": [
    "def getIssues(sourceRepo,org,Headers=url_headers,Auth=(user,token)):\n",
    "    get_issues_url  = \"https://api.github.com/repos/\"+org+\"/\"+sourceRepo+\"/issues\";\n",
    "    time.sleep(1)\n",
    "    response = requests.get(get_issues_url,params={\"state\":\"open\",\"per_page\":100},headers=Headers, auth=Auth)\n",
    "    source_issues =response.json()\n",
    "    source_issues = list(map(lambda item: filterIssue(item),source_issues))\n",
    "    return source_issues"
   ]
  },
  {
   "cell_type": "markdown",
   "id": "ongoing-reliance",
   "metadata": {},
   "source": [
    "createIssues(sourceRepo,repo,org,Headers = url_headers, Auth=(user,token)) takes in sourceRepo, repo and clones issues from sourceRepo to repo. It checks what issue titles already exist in the repo. Only issues with different titles are cloned into destination repo."
   ]
  },
  {
   "cell_type": "code",
   "execution_count": null,
   "id": "comfortable-saudi",
   "metadata": {},
   "outputs": [],
   "source": [
    "def createIssues(source_issues,repo,org,Headers = url_headers, Auth=(user,token)):\n",
    "    \n",
    "    repo_issues_url =\"https://api.github.com/repos/\"+org+\"/\"+repo+\"/issues\"\n",
    "    time.sleep(1)\n",
    "    response = requests.get(repo_issues_url,params={\"state\":\"all\",\"per_page\":100}, headers=Headers,auth=Auth)\n",
    "    existing_issues = response.json()\n",
    "    existing_issues = list(map(lambda item: filterIssue(item),existing_issues))\n",
    "    print(f'{len(existing_issues)} existing issues found.')\n",
    "    existing_issue_titles = [x[\"title\"] for x in existing_issues]\n",
    "\n",
    "    new_issues = []\n",
    "    \n",
    "    for issue in source_issues:\n",
    "        title = issue[\"title\"]\n",
    "        if not title in existing_issue_titles:\n",
    "            new_issues.append(issue)\n",
    "    \n",
    "    count =0\n",
    "    created_issues = []\n",
    "    for item in new_issues:\n",
    "        item.pop(\"id\")\n",
    "        time.sleep(3)\n",
    "        retry = True\n",
    "        while(retry):\n",
    "            response = requests.post(repo_issues_url,data=json.dumps(item),headers=Headers,auth=Auth)\n",
    "            result = response.json()\n",
    "            if not \"title\" in result.keys() and \"message\" in result.keys():\n",
    "                print(\"request timed out....sleeping\")\n",
    "                time.sleep(10*60)\n",
    "                retry = True\n",
    "            else:\n",
    "                print(\"Request processed - cloned issue# \" + str(result[\"title\"]))\n",
    "                created_issues.append(result)\n",
    "                retry = False\n",
    "\n",
    "        count += 1\n",
    "        \n",
    "    print(f'{len(created_issues)} new issues created.')\n",
    "    total_issues = existing_issues\n",
    "    total_issues = total_issues +  list(map(lambda item: filterIssue(item),created_issues))\n",
    "    print(f'{len(total_issues)} issues exist in the repo now.')\n",
    "    return total_issues\n",
    "\n",
    "\n"
   ]
  },
  {
   "cell_type": "code",
   "execution_count": null,
   "id": "economic-chosen",
   "metadata": {},
   "outputs": [],
   "source": [
    "def getProjectBoard(sourceRepo,project_name,org,Headers = url_headers, Auth=(user,token)):\n",
    "    source_project_url = \"https://api.github.com/repos/\"+org+\"/\"+sourceRepo+\"/projects\"\n",
    "\n",
    "    response = requests.get(source_project_url,headers=Headers,auth=Auth)\n",
    "    projects = response.json()\n",
    "    project = list(filter(lambda item: item[\"name\"]==project_name,projects))\n",
    "    if len(project)>0:\n",
    "        project = project[0] \n",
    "        project_id = str(project[\"id\"])\n",
    "        project_columns_url = \"https://api.github.com/projects/\"+project_id+\"/columns\"\n",
    "\n",
    "        response = requests.get(project_columns_url,headers=Headers,auth=Auth)\n",
    "        columns = response.json()\n",
    "        \n",
    "        project_columns = []\n",
    "        if len(columns)>0:\n",
    "            for column in columns:\n",
    "                item = {}\n",
    "                \n",
    "\n",
    "                column_id = str(column[\"id\"])\n",
    "                cards_url = \"https://api.github.com/projects/columns/\"+column_id+\"/cards\"\n",
    "\n",
    "                response = requests.get(cards_url,params={\"per_page\":100},headers=Headers,auth=Auth)\n",
    "                cards = response.json()\n",
    "                column_issues = []\n",
    "                if len(cards)>0:\n",
    "                    for card in cards:\n",
    "\n",
    "                        if \"content_url\" in card:\n",
    "\n",
    "                            response = requests.get(card[\"content_url\"],headers=Headers,auth=Auth)\n",
    "                            issue_title = response.json()[\"title\"]\n",
    "                            column_issues.append(issue_title)\n",
    "\n",
    "                name = column[\"name\"]\n",
    "                item[name]=column_issues\n",
    "                project_columns.append(item)\n",
    "\n",
    "        return project_columns\n",
    "    else:\n",
    "        project = None\n",
    "        return None          "
   ]
  },
  {
   "cell_type": "markdown",
   "id": "white-english",
   "metadata": {},
   "source": [
    "getProjectBoard(repo,org,Headers = url_headers, Auth=(user,token)) takes in the destination repo and creates a kanban board for it with columns \"icebox\", \"to do\", \"in progress\", \"under review\" and \"done\" . It checks if the kanban board already exists. A kanban board is created only if it does not exist. It returns todo_id, which is the id of the column \"to do\". This id is used to add new cards to the kanban board."
   ]
  },
  {
   "cell_type": "code",
   "execution_count": null,
   "id": "suburban-recovery",
   "metadata": {},
   "outputs": [],
   "source": [
    "def createProjectBoard(repo,org,project_columns,projectBoard,Headers = url_headers, Auth=(user,token)):\n",
    "\n",
    "    project_item = {\"name\": projectBoard,\n",
    "               \"body\":\"Project board for tracking progress.\"}\n",
    "    repo_project_url = \"https://api.github.com/repos/\"+org+\"/\"+repo+\"/projects\"\n",
    "   \n",
    "\n",
    "    get_projects_url = \"https://api.github.com/repos/\"+org+\"/\"+repo+\"/projects\"\n",
    "    time.sleep(1)\n",
    "    response = requests.get(repo_project_url,headers=Headers,auth=Auth)\n",
    "    projects = response.json()\n",
    "    \n",
    "    project = list(filter(lambda item: item[\"name\"]==project_item[\"name\"],projects))\n",
    "    if len(project)>0:\n",
    "        project = project[0] \n",
    "    else:\n",
    "        project = None\n",
    "   \n",
    "    column_ids = {}\n",
    "    if project!=None:\n",
    "        print(f'projectboard |{project_item[\"name\"]}| found!')\n",
    "        project_id = str(project[\"id\"])\n",
    "        columns_url = \"https://api.github.com/projects/\"+project_id+\"/columns\"\n",
    "        time.sleep(1)\n",
    "        response = requests.get(columns_url,headers=Headers,auth=Auth)\n",
    "        columns = response.json()\n",
    "        for column in columns:\n",
    "            name = column[\"name\"]\n",
    "            column_ids[name] = column[\"id\"]\n",
    "\n",
    "    \n",
    "    else:\n",
    "        print(\"creating project board.....\")\n",
    "        response = requests.post(repo_project_url,data=json.dumps(project_item), headers=Headers,auth=Auth)\n",
    "        result = response.json()\n",
    "        project_id = str(result[\"id\"])\n",
    "        column_url = \"https://api.github.com/projects/\"+project_id+\"/columns\"\n",
    "\n",
    "        columns = [{\"name\":list(item.keys())[0]} for item in project_columns]\n",
    "        \n",
    "        print(columns)\n",
    "\n",
    "        for column in columns:\n",
    "            time.sleep(1)\n",
    "            response = requests.post(column_url,data=json.dumps(column),headers=Headers,auth=Auth)\n",
    "            result = response.json()\n",
    "            name = column[\"name\"]\n",
    "            column_ids[name] = result[\"id\"]\n",
    "\n",
    "    \n",
    "    return column_ids"
   ]
  },
  {
   "cell_type": "code",
   "execution_count": null,
   "id": "listed-boost",
   "metadata": {},
   "outputs": [],
   "source": [
    "def issue_to_columns(project_columns):\n",
    "    issue_columns = {}\n",
    "    for column in project_columns:\n",
    "        for issueList in column.values():\n",
    "            for issue in issueList:\n",
    "                issue_columns[issue] = list(column.keys())[0]\n",
    "    return issue_columns"
   ]
  },
  {
   "cell_type": "markdown",
   "id": "covered-weather",
   "metadata": {},
   "source": [
    "populateProjectBoard(repo,org,todo_id,Headers = url_headers, Auth=(user,token)) takes in the destination repo and todo_id (id of the todo column) and uses issues to create cards in the todo column of the project board. Only issues that are not in the todo column create new cards."
   ]
  },
  {
   "cell_type": "code",
   "execution_count": null,
   "id": "requested-wealth",
   "metadata": {},
   "outputs": [],
   "source": [
    "def populateProjectBoard(repo,org,project_columns,total_issues,\n",
    "                         column_ids,projectBoard,Headers = url_headers, Auth=(user,token)):\n",
    "\n",
    "    repo_project_columns = getProjectBoard(repo,projectBoard,org)\n",
    "    \n",
    "    source_issue_columns = issue_to_columns(project_columns)\n",
    "    repo_issue_columns = issue_to_columns(repo_project_columns)\n",
    "\n",
    "    print(f'{len(source_issue_columns)} issues exist on source kanban...')\n",
    "    print(f'{len(repo_issue_columns)} issues exist on destination kanban...')\n",
    "    \n",
    "    count = 0\n",
    "    cards = []\n",
    "    for issue in total_issues:\n",
    "        if issue[\"title\"] in source_issue_columns.keys() and not issue[\"title\"] in repo_issue_columns.keys():\n",
    "            card = {\"content_id\":issue[\"id\"],\"content_type\":\"Issue\"}\n",
    "            column_id = column_ids[source_issue_columns[issue[\"title\"]]]\n",
    "            card_url = \"https://api.github.com/projects/columns/\"+str(column_id)+\"/cards\"\n",
    "            time.sleep(3)\n",
    "            retry = True\n",
    "            while(retry):\n",
    "                response = requests.post(card_url,data=json.dumps(card),headers=Headers,auth=Auth)\n",
    "                result = response.json()\n",
    "                if \"message\" in result.keys() and not \"content_url\" in result.keys():\n",
    "                    print(\"request timed out....sleeping\")\n",
    "                    time.sleep(10*60)\n",
    "                    retry = True\n",
    "                else:\n",
    "                    print(\"Request Processed - Card created!\")\n",
    "                    cards.append(result)\n",
    "                    retry = False\n",
    "    print(f\"{len(cards)} new cards created...\")"
   ]
  },
  {
   "cell_type": "markdown",
   "id": "seventh-spray",
   "metadata": {},
   "source": [
    "cloneRepos(sourceRepo, repoList, org) takes in sourceRepo: the repo to be copied, repoList: the list of repositories where sourceRepo will be cloned, org: the organisation. It clones milestones, issues and creates the project board for each repo in the repoList."
   ]
  },
  {
   "cell_type": "code",
   "execution_count": null,
   "id": "deluxe-recipe",
   "metadata": {},
   "outputs": [],
   "source": [
    "def cloneRepos(sourceRepo, repoList, org, projectBoard):\n",
    "    print(\"------------------------------------------------------------------------------\")\n",
    "    milestones = getMilestones(sourceRepo,org)\n",
    "    source_issues = getIssues(sourceRepo,org)\n",
    "    project_columns = getProjectBoard(sourceRepo,projectBoard,org)\n",
    "\n",
    "    for repo in repoList:\n",
    "        print(f\"Cloning items in {repo}....\")\n",
    "        createMilestones(milestones,repo,org)\n",
    "        created_issues = createIssues(source_issues,repo,org)\n",
    "        column_ids = createProjectBoard(repo,org,project_columns,projectBoard)\n",
    "        populateProjectBoard(repo,org,project_columns,created_issues,column_ids,projectBoard)"
   ]
  },
  {
   "cell_type": "markdown",
   "id": "loose-pacific",
   "metadata": {},
   "source": [
    "Please set the following items in the next cell:\n",
    "sourceRepo (the repo to be copied)\n",
    "repoList (the list of repositories where source repo will be cloned)\n",
    "org (the github organisation)\n",
    "Run the cell to invoke cloneRepos."
   ]
  },
  {
   "cell_type": "code",
   "execution_count": null,
   "id": "sustainable-convenience",
   "metadata": {},
   "outputs": [],
   "source": [
    "repoList = [\"testRepo\"]\n",
    "org = \"wsu-cpts489-fa21\"\n",
    "sourceRepo = \"destination-repo\"\n",
    "projectBoard = \"CptS 489 Team Project\"\n",
    "cloneRepos(sourceRepo,repoList,org,projectBoard)\n",
    "\n"
   ]
  }
 ],
 "metadata": {
  "kernelspec": {
   "display_name": "Python 3",
   "language": "python",
   "name": "python3"
  },
  "language_info": {
   "codemirror_mode": {
    "name": "ipython",
    "version": 3
   },
   "file_extension": ".py",
   "mimetype": "text/x-python",
   "name": "python",
   "nbconvert_exporter": "python",
   "pygments_lexer": "ipython3",
   "version": "3.8.7"
  }
 },
 "nbformat": 4,
 "nbformat_minor": 5
}
